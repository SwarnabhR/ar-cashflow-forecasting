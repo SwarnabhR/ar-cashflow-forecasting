{
 "cells": [
  {
   "cell_type": "code",
   "execution_count": null,
   "id": "e94bef27",
   "metadata": {},
   "outputs": [],
   "source": [
    "from ingestion.data_loader import fetch_stock_data, simulate_cash_inflow, save_to_csv\n",
    "\n",
    "# Step 1: Fetch data\n",
    "df = fetch_stock_data('DHER.DE', '2017-06-30', '2024-06-30')\n",
    "\n",
    "# Step 2: Simulate invoice inflow\n",
    "df = simulate_cash_inflow(df)\n",
    "\n",
    "# Step 3: Save\n",
    "save_to_csv(df, '../data/processed/dher_inflow.csv')"
   ]
  }
 ],
 "metadata": {
  "kernelspec": {
   "display_name": "oxy",
   "language": "python",
   "name": "python3"
  },
  "language_info": {
   "name": "python",
   "version": "3.13.3"
  }
 },
 "nbformat": 4,
 "nbformat_minor": 5
}
